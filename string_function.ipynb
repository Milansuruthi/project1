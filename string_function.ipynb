{
 "cells": [
  {
   "cell_type": "code",
   "execution_count": null,
   "id": "e47f4e35",
   "metadata": {},
   "outputs": [
    {
     "name": "stdout",
     "output_type": "stream",
     "text": [
      "String function\n",
      "1.capital\n",
      "2.swapcase\n",
      "3.upper\n",
      "4.check it is a string\n",
      "5.length\n",
      "6.lower\n",
      "7.zeofill\n",
      "8.split\n",
      "9.Make each word first letter capital\n",
      "10.replace\n"
     ]
    }
   ],
   "source": [
    "print(\"String function\")\n",
    "print(\"1.capital\")\n",
    "print(\"2.swapcase\")\n",
    "print(\"3.upper\")\n",
    "print(\"4.check it is a string\")\n",
    "print(\"5.length\")\n",
    "print(\"6.lower\")\n",
    "print(\"7.zeofill\")\n",
    "print(\"8.split\")\n",
    "print(\"9.Make each word first letter capital\")\n",
    "print(\"10.replace\")\n",
    "\n",
    "while(True):\n",
    "    s=input(\"Enter a string:\")\n",
    "    a=int(input(\"Enter your choice:\"))\n",
    "    \n",
    "    if a==1:\n",
    "        print(str.capitalize())\n",
    "        \n",
    "    elif a==2:\n",
    "        print(str.swapcase())\n",
    "    \n",
    "    elif a==3:\n",
    "        print(str.upper())\n",
    "        \n",
    "    elif a==4:\n",
    "        print(str.isalpha())\n",
    "        \n",
    "    elif a==5:\n",
    "        print(len(str))\n",
    "        \n",
    "    elif a==6:\n",
    "        print(str.lower())\n",
    "        \n",
    "    elif a==7:\n",
    "        print(str.zfill(len(str)+4))\n",
    "        \n",
    "    elif a==8:\n",
    "        print(str.split())\n",
    "        \n",
    "    elif a==9:\n",
    "        print(str.title())\n",
    "        \n",
    "    elif a==10:\n",
    "        print(str.replace(c,b))\n",
    "        \n",
    "    else:\n",
    "        print(\"Ivalid number\")\n",
    "        \n",
    "    str=input(\"DO you want to conitue,Press y or n\")\n",
    "    \n",
    "    if str==\"no\":\n",
    "        break"
   ]
  },
  {
   "cell_type": "code",
   "execution_count": null,
   "id": "86101691",
   "metadata": {},
   "outputs": [],
   "source": []
  }
 ],
 "metadata": {
  "kernelspec": {
   "display_name": "Python 3 (ipykernel)",
   "language": "python",
   "name": "python3"
  },
  "language_info": {
   "codemirror_mode": {
    "name": "ipython",
    "version": 3
   },
   "file_extension": ".py",
   "mimetype": "text/x-python",
   "name": "python",
   "nbconvert_exporter": "python",
   "pygments_lexer": "ipython3",
   "version": "3.9.13"
  }
 },
 "nbformat": 4,
 "nbformat_minor": 5
}
