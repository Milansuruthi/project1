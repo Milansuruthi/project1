{
 "cells": [
  {
   "cell_type": "code",
   "execution_count": 2,
   "id": "46d804f3",
   "metadata": {},
   "outputs": [
    {
     "name": "stdout",
     "output_type": "stream",
     "text": [
      "value of x is: 6.56\n",
      "Type: <class 'float'>\n"
     ]
    }
   ],
   "source": [
    "x=6.56\n",
    "print(\"value of x is:\",x)\n",
    "print(\"Type:\",type(x))"
   ]
  },
  {
   "cell_type": "code",
   "execution_count": 5,
   "id": "4eea4be3",
   "metadata": {},
   "outputs": [
    {
     "name": "stdout",
     "output_type": "stream",
     "text": [
      "Enter the value:\n",
      "56\n",
      "less than 60\n"
     ]
    }
   ],
   "source": [
    "print(\"Enter the value:\")\n",
    "a=int(input())\n",
    "if(a>=60):\n",
    "    print(\"greater than 60\")\n",
    "else:\n",
    "        print(\"less than 60\")"
   ]
  },
  {
   "cell_type": "code",
   "execution_count": 29,
   "id": "9e4a1633",
   "metadata": {},
   "outputs": [
    {
     "name": "stdout",
     "output_type": "stream",
     "text": [
      "2 \n",
      "4 \n",
      "6 \n",
      "8 \n",
      "10 \n",
      "12 \n",
      "14 \n",
      "16 \n",
      "18 \n",
      "20 \n"
     ]
    }
   ],
   "source": [
    "count=0\n",
    "for i in range(2,50):\n",
    "    if(i%2==0):\n",
    "        print(i,\"\")\n",
    "        count+=1\n",
    "        if(count>=10):\n",
    "            break\n",
    "     \n",
    "    "
   ]
  },
  {
   "cell_type": "code",
   "execution_count": 27,
   "id": "fa9884d6",
   "metadata": {},
   "outputs": [
    {
     "name": "stdout",
     "output_type": "stream",
     "text": [
      "x1: 50 y1: 50 z1: 50 w1: 50\n"
     ]
    }
   ],
   "source": [
    "x1=y1=z1=w1=50\n",
    "print(\"x1:\",x1,\"y1:\",y1,\"z1:\",z1,\"w1:\",w1)"
   ]
  },
  {
   "cell_type": "code",
   "execution_count": 32,
   "id": "f2194081",
   "metadata": {},
   "outputs": [
    {
     "name": "stdout",
     "output_type": "stream",
     "text": [
      "10\n",
      "Not divisible by 2 and 3\n"
     ]
    }
   ],
   "source": [
    "a=int(input())\n",
    "if(a%2==0 and a%3==0):\n",
    "    print(\"Divisible by 2 and 3\")\n",
    "else:\n",
    "    print(\"Not divisible by 2 and 3\")\n",
    "    "
   ]
  },
  {
   "cell_type": "code",
   "execution_count": 33,
   "id": "236c3bdd",
   "metadata": {},
   "outputs": [],
   "source": [
    "def simpint(p,n,r):\n",
    "    interest=(p*n*r)/100\n",
    "    print(interest)\n",
    "    print(\"enter the principle:\")\n",
    "    x=int(input())\n",
    "    print(\"enter the number of years:\")\n",
    "    y=int(input())\n",
    "    print(\"enter the rate:\")\n",
    "    z=int(input())\n",
    "    simpleint(x,y,z)"
   ]
  },
  {
   "cell_type": "code",
   "execution_count": null,
   "id": "10e21d8b",
   "metadata": {},
   "outputs": [
    {
     "name": "stdout",
     "output_type": "stream",
     "text": [
      "String function\n",
      "1.capital\n",
      "2.swapcase\n",
      "3.upper\n",
      "4.check it is a string\n",
      "5.length\n",
      "6.lower\n",
      "7.zeofill\n",
      "8.split\n",
      "9.Make each word first letter capital\n",
      "10.replace\n"
     ]
    }
   ],
   "source": [
    "\n",
    "print(\"String function\")\n",
    "print(\"1.capital\")\n",
    "print(\"2.swapcase\")\n",
    "print(\"3.upper\")\n",
    "print(\"4.check it is a string\")\n",
    "print(\"5.length\")\n",
    "print(\"6.lower\")\n",
    "print(\"7.zeofill\")\n",
    "print(\"8.split\")\n",
    "print(\"9.Make each word first letter capital\")\n",
    "print(\"10.replace\")\n",
    "\n",
    "while(True):\n",
    "    s=input(\"Enter a string:\")\n",
    "    a=int(input(\"Enter your choice:\"))\n",
    "    \n",
    "    if a==1:\n",
    "        print(str.capitalize())\n",
    "        \n",
    "    elif a==2:\n",
    "        print(str.swapcase())\n",
    "    \n",
    "    elif a==3:\n",
    "        print(str.upper())\n",
    "        \n",
    "    elif a==4:\n",
    "        print(str.isalpha())\n",
    "        \n",
    "    elif a==5:\n",
    "        print(len(str))\n",
    "        \n",
    "    elif a==6:\n",
    "        print(str.lower())\n",
    "        \n",
    "    elif a==7:\n",
    "        print(str.zfill(len(str)+4))\n",
    "        \n",
    "    elif a==8:\n",
    "        print(str.split())\n",
    "        \n",
    "    elif a==9:\n",
    "        print(str.title())\n",
    "        \n",
    "    elif a==10:\n",
    "        print(str.replace(c,b))\n",
    "        \n",
    "    else:\n",
    "        print(\"Ivalid number\")\n",
    "        \n",
    "    str=input(\"DO you want to conitue,Press y or n\")\n",
    "    \n",
    "    if str==\"no\":\n",
    "        break"
   ]
  },
  {
   "cell_type": "code",
   "execution_count": null,
   "id": "859c0327",
   "metadata": {},
   "outputs": [],
   "source": []
  },
  {
   "cell_type": "code",
   "execution_count": null,
   "id": "9dcc4bcd",
   "metadata": {},
   "outputs": [],
   "source": []
  }
 ],
 "metadata": {
  "kernelspec": {
   "display_name": "Python 3 (ipykernel)",
   "language": "python",
   "name": "python3"
  },
  "language_info": {
   "codemirror_mode": {
    "name": "ipython",
    "version": 3
   },
   "file_extension": ".py",
   "mimetype": "text/x-python",
   "name": "python",
   "nbconvert_exporter": "python",
   "pygments_lexer": "ipython3",
   "version": "3.9.13"
  }
 },
 "nbformat": 4,
 "nbformat_minor": 5
}
